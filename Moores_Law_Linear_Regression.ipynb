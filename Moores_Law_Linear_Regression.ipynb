{
  "nbformat": 4,
  "nbformat_minor": 0,
  "metadata": {
    "colab": {
      "name": "Moores Law - Linear Regression.ipynb",
      "provenance": [],
      "authorship_tag": "ABX9TyNDal/M2tQuXvZntu+7zFbp",
      "include_colab_link": true
    },
    "kernelspec": {
      "name": "python3",
      "display_name": "Python 3"
    }
  },
  "cells": [
    {
      "cell_type": "markdown",
      "metadata": {
        "id": "view-in-github",
        "colab_type": "text"
      },
      "source": [
        "<a href=\"https://colab.research.google.com/github/buzzudit/Learning-Deep-Learning/blob/master/Moores_Law_Linear_Regression.ipynb\" target=\"_parent\"><img src=\"https://colab.research.google.com/assets/colab-badge.svg\" alt=\"Open In Colab\"/></a>"
      ]
    },
    {
      "cell_type": "code",
      "metadata": {
        "id": "7jsDgFmR4lZI",
        "colab_type": "code",
        "colab": {
          "base_uri": "https://localhost:8080/",
          "height": 666
        },
        "outputId": "e83f1f02-0449-4fe1-e3f9-d28b6d18a3b5"
      },
      "source": [
        "!pip install tensorflow -U\n",
        "import tensorflow as tf"
      ],
      "execution_count": 17,
      "outputs": [
        {
          "output_type": "stream",
          "text": [
            "Requirement already up-to-date: tensorflow in /usr/local/lib/python3.6/dist-packages (2.3.0)\n",
            "Requirement already satisfied, skipping upgrade: termcolor>=1.1.0 in /usr/local/lib/python3.6/dist-packages (from tensorflow) (1.1.0)\n",
            "Requirement already satisfied, skipping upgrade: tensorflow-estimator<2.4.0,>=2.3.0 in /usr/local/lib/python3.6/dist-packages (from tensorflow) (2.3.0)\n",
            "Requirement already satisfied, skipping upgrade: absl-py>=0.7.0 in /usr/local/lib/python3.6/dist-packages (from tensorflow) (0.9.0)\n",
            "Requirement already satisfied, skipping upgrade: numpy<1.19.0,>=1.16.0 in /usr/local/lib/python3.6/dist-packages (from tensorflow) (1.18.5)\n",
            "Requirement already satisfied, skipping upgrade: astunparse==1.6.3 in /usr/local/lib/python3.6/dist-packages (from tensorflow) (1.6.3)\n",
            "Requirement already satisfied, skipping upgrade: tensorboard<3,>=2.3.0 in /usr/local/lib/python3.6/dist-packages (from tensorflow) (2.3.0)\n",
            "Requirement already satisfied, skipping upgrade: wheel>=0.26 in /usr/local/lib/python3.6/dist-packages (from tensorflow) (0.34.2)\n",
            "Requirement already satisfied, skipping upgrade: six>=1.12.0 in /usr/local/lib/python3.6/dist-packages (from tensorflow) (1.15.0)\n",
            "Requirement already satisfied, skipping upgrade: h5py<2.11.0,>=2.10.0 in /usr/local/lib/python3.6/dist-packages (from tensorflow) (2.10.0)\n",
            "Requirement already satisfied, skipping upgrade: protobuf>=3.9.2 in /usr/local/lib/python3.6/dist-packages (from tensorflow) (3.12.4)\n",
            "Requirement already satisfied, skipping upgrade: scipy==1.4.1 in /usr/local/lib/python3.6/dist-packages (from tensorflow) (1.4.1)\n",
            "Requirement already satisfied, skipping upgrade: google-pasta>=0.1.8 in /usr/local/lib/python3.6/dist-packages (from tensorflow) (0.2.0)\n",
            "Requirement already satisfied, skipping upgrade: keras-preprocessing<1.2,>=1.1.1 in /usr/local/lib/python3.6/dist-packages (from tensorflow) (1.1.2)\n",
            "Requirement already satisfied, skipping upgrade: grpcio>=1.8.6 in /usr/local/lib/python3.6/dist-packages (from tensorflow) (1.30.0)\n",
            "Requirement already satisfied, skipping upgrade: gast==0.3.3 in /usr/local/lib/python3.6/dist-packages (from tensorflow) (0.3.3)\n",
            "Requirement already satisfied, skipping upgrade: opt-einsum>=2.3.2 in /usr/local/lib/python3.6/dist-packages (from tensorflow) (3.3.0)\n",
            "Requirement already satisfied, skipping upgrade: wrapt>=1.11.1 in /usr/local/lib/python3.6/dist-packages (from tensorflow) (1.12.1)\n",
            "Requirement already satisfied, skipping upgrade: requests<3,>=2.21.0 in /usr/local/lib/python3.6/dist-packages (from tensorboard<3,>=2.3.0->tensorflow) (2.23.0)\n",
            "Requirement already satisfied, skipping upgrade: markdown>=2.6.8 in /usr/local/lib/python3.6/dist-packages (from tensorboard<3,>=2.3.0->tensorflow) (3.2.2)\n",
            "Requirement already satisfied, skipping upgrade: tensorboard-plugin-wit>=1.6.0 in /usr/local/lib/python3.6/dist-packages (from tensorboard<3,>=2.3.0->tensorflow) (1.7.0)\n",
            "Requirement already satisfied, skipping upgrade: google-auth<2,>=1.6.3 in /usr/local/lib/python3.6/dist-packages (from tensorboard<3,>=2.3.0->tensorflow) (1.17.2)\n",
            "Requirement already satisfied, skipping upgrade: google-auth-oauthlib<0.5,>=0.4.1 in /usr/local/lib/python3.6/dist-packages (from tensorboard<3,>=2.3.0->tensorflow) (0.4.1)\n",
            "Requirement already satisfied, skipping upgrade: werkzeug>=0.11.15 in /usr/local/lib/python3.6/dist-packages (from tensorboard<3,>=2.3.0->tensorflow) (1.0.1)\n",
            "Requirement already satisfied, skipping upgrade: setuptools>=41.0.0 in /usr/local/lib/python3.6/dist-packages (from tensorboard<3,>=2.3.0->tensorflow) (49.2.0)\n",
            "Requirement already satisfied, skipping upgrade: idna<3,>=2.5 in /usr/local/lib/python3.6/dist-packages (from requests<3,>=2.21.0->tensorboard<3,>=2.3.0->tensorflow) (2.10)\n",
            "Requirement already satisfied, skipping upgrade: urllib3!=1.25.0,!=1.25.1,<1.26,>=1.21.1 in /usr/local/lib/python3.6/dist-packages (from requests<3,>=2.21.0->tensorboard<3,>=2.3.0->tensorflow) (1.24.3)\n",
            "Requirement already satisfied, skipping upgrade: chardet<4,>=3.0.2 in /usr/local/lib/python3.6/dist-packages (from requests<3,>=2.21.0->tensorboard<3,>=2.3.0->tensorflow) (3.0.4)\n",
            "Requirement already satisfied, skipping upgrade: certifi>=2017.4.17 in /usr/local/lib/python3.6/dist-packages (from requests<3,>=2.21.0->tensorboard<3,>=2.3.0->tensorflow) (2020.6.20)\n",
            "Requirement already satisfied, skipping upgrade: importlib-metadata; python_version < \"3.8\" in /usr/local/lib/python3.6/dist-packages (from markdown>=2.6.8->tensorboard<3,>=2.3.0->tensorflow) (1.7.0)\n",
            "Requirement already satisfied, skipping upgrade: pyasn1-modules>=0.2.1 in /usr/local/lib/python3.6/dist-packages (from google-auth<2,>=1.6.3->tensorboard<3,>=2.3.0->tensorflow) (0.2.8)\n",
            "Requirement already satisfied, skipping upgrade: cachetools<5.0,>=2.0.0 in /usr/local/lib/python3.6/dist-packages (from google-auth<2,>=1.6.3->tensorboard<3,>=2.3.0->tensorflow) (4.1.1)\n",
            "Requirement already satisfied, skipping upgrade: rsa<5,>=3.1.4; python_version >= \"3\" in /usr/local/lib/python3.6/dist-packages (from google-auth<2,>=1.6.3->tensorboard<3,>=2.3.0->tensorflow) (4.6)\n",
            "Requirement already satisfied, skipping upgrade: requests-oauthlib>=0.7.0 in /usr/local/lib/python3.6/dist-packages (from google-auth-oauthlib<0.5,>=0.4.1->tensorboard<3,>=2.3.0->tensorflow) (1.3.0)\n",
            "Requirement already satisfied, skipping upgrade: zipp>=0.5 in /usr/local/lib/python3.6/dist-packages (from importlib-metadata; python_version < \"3.8\"->markdown>=2.6.8->tensorboard<3,>=2.3.0->tensorflow) (3.1.0)\n",
            "Requirement already satisfied, skipping upgrade: pyasn1<0.5.0,>=0.4.6 in /usr/local/lib/python3.6/dist-packages (from pyasn1-modules>=0.2.1->google-auth<2,>=1.6.3->tensorboard<3,>=2.3.0->tensorflow) (0.4.8)\n",
            "Requirement already satisfied, skipping upgrade: oauthlib>=3.0.0 in /usr/local/lib/python3.6/dist-packages (from requests-oauthlib>=0.7.0->google-auth-oauthlib<0.5,>=0.4.1->tensorboard<3,>=2.3.0->tensorflow) (3.1.0)\n"
          ],
          "name": "stdout"
        }
      ]
    },
    {
      "cell_type": "code",
      "metadata": {
        "id": "ku0AEfhK40kG",
        "colab_type": "code",
        "colab": {}
      },
      "source": [
        "import pandas as pd\n",
        "import numpy as np\n",
        "import matplotlib.pyplot as plt\n"
      ],
      "execution_count": 18,
      "outputs": []
    },
    {
      "cell_type": "code",
      "metadata": {
        "id": "Gz3L_grb4-sZ",
        "colab_type": "code",
        "colab": {
          "base_uri": "https://localhost:8080/",
          "height": 204
        },
        "outputId": "27f62d9d-9456-4cb5-fde8-38fa503fa746"
      },
      "source": [
        "#get dataset\n",
        "!wget https://raw.githubusercontent.com/lazyprogrammer/machine_learning_examples/master/tf2.0/moore.csv"
      ],
      "execution_count": 19,
      "outputs": [
        {
          "output_type": "stream",
          "text": [
            "--2020-08-08 13:31:49--  https://raw.githubusercontent.com/lazyprogrammer/machine_learning_examples/master/tf2.0/moore.csv\n",
            "Resolving raw.githubusercontent.com (raw.githubusercontent.com)... 151.101.0.133, 151.101.64.133, 151.101.128.133, ...\n",
            "Connecting to raw.githubusercontent.com (raw.githubusercontent.com)|151.101.0.133|:443... connected.\n",
            "HTTP request sent, awaiting response... 200 OK\n",
            "Length: 2302 (2.2K) [text/plain]\n",
            "Saving to: ‘moore.csv.1’\n",
            "\n",
            "\rmoore.csv.1           0%[                    ]       0  --.-KB/s               \rmoore.csv.1         100%[===================>]   2.25K  --.-KB/s    in 0s      \n",
            "\n",
            "2020-08-08 13:31:49 (42.4 MB/s) - ‘moore.csv.1’ saved [2302/2302]\n",
            "\n"
          ],
          "name": "stdout"
        }
      ]
    },
    {
      "cell_type": "code",
      "metadata": {
        "id": "l9gz9yUB5UFa",
        "colab_type": "code",
        "colab": {}
      },
      "source": [
        "data = pd.read_csv('moore.csv', header=None).values"
      ],
      "execution_count": 20,
      "outputs": []
    },
    {
      "cell_type": "code",
      "metadata": {
        "id": "QA4v8Xzl5hp-",
        "colab_type": "code",
        "colab": {
          "base_uri": "https://localhost:8080/",
          "height": 34
        },
        "outputId": "39e21396-0e3d-4201-b9d5-6eef7c95c8b8"
      },
      "source": [
        "type(data)"
      ],
      "execution_count": 21,
      "outputs": [
        {
          "output_type": "execute_result",
          "data": {
            "text/plain": [
              "numpy.ndarray"
            ]
          },
          "metadata": {
            "tags": []
          },
          "execution_count": 21
        }
      ]
    },
    {
      "cell_type": "code",
      "metadata": {
        "id": "cUP8pWT050Z0",
        "colab_type": "code",
        "colab": {}
      },
      "source": [
        "x = data[:,0].reshape(-1,1) #make it 2-D array of  NxD  where D=1\n",
        "y = data[:,1]"
      ],
      "execution_count": 22,
      "outputs": []
    },
    {
      "cell_type": "code",
      "metadata": {
        "id": "PJI5hDl76TAO",
        "colab_type": "code",
        "colab": {
          "base_uri": "https://localhost:8080/",
          "height": 293
        },
        "outputId": "8a722b62-f17d-454c-868c-bf9c6fd4ce66"
      },
      "source": [
        "plt.scatter(x,y)"
      ],
      "execution_count": 23,
      "outputs": [
        {
          "output_type": "execute_result",
          "data": {
            "text/plain": [
              "<matplotlib.collections.PathCollection at 0x7fa4b86588d0>"
            ]
          },
          "metadata": {
            "tags": []
          },
          "execution_count": 23
        },
        {
          "output_type": "display_data",
          "data": {
            "image/png": "[encoded data removed]",
            "text/plain": [
              "<Figure size 432x288 with 1 Axes>"
            ]
          },
          "metadata": {
            "tags": [],
            "needs_background": "light"
          }
        }
      ]
    },
    {
      "cell_type": "code",
      "metadata": {
        "id": "_YY7SlE26VNi",
        "colab_type": "code",
        "colab": {
          "base_uri": "https://localhost:8080/",
          "height": 282
        },
        "outputId": "2927480f-3c9f-4e03-f76a-03fcaadb7f83"
      },
      "source": [
        "y = np.log(y)  #make it linear\n",
        "x = x - x.mean() #let's  center the x\n",
        "plt.scatter(x,y)\n"
      ],
      "execution_count": 24,
      "outputs": [
        {
          "output_type": "execute_result",
          "data": {
            "text/plain": [
              "<matplotlib.collections.PathCollection at 0x7fa4b7c05748>"
            ]
          },
          "metadata": {
            "tags": []
          },
          "execution_count": 24
        },
        {
          "output_type": "display_data",
          "data": {
            "image/png": "[encoded data removed]",
            "text/plain": [
              "<Figure size 432x288 with 1 Axes>"
            ]
          },
          "metadata": {
            "tags": [],
            "needs_background": "light"
          }
        }
      ]
    },
    {
      "cell_type": "code",
      "metadata": {
        "id": "1ba6_ocF6c_1",
        "colab_type": "code",
        "colab": {}
      },
      "source": [
        "#ACTIVATION not applicable for linear regression\n",
        "OPTIMIZER = tf.keras.optimizers.SGD(0.001,0.9)  #we have created our own optimizer\n",
        "LOSS = 'mse'#Mean Square Error\n",
        "EPOCHS  = 200\n",
        "#METRICS don't care for accuracy in linear regression"
      ],
      "execution_count": 29,
      "outputs": []
    },
    {
      "cell_type": "code",
      "metadata": {
        "id": "DPJCqUKx7ysR",
        "colab_type": "code",
        "colab": {}
      },
      "source": [
        "model =tf.keras.models.Sequential([\n",
        "                                   tf.keras.layers.Input(shape=(1,)),\n",
        "                                   tf.keras.layers.Dense(1)\n",
        "])\n",
        "model.compile(optimizer = OPTIMIZER, loss = LOSS)\n",
        "\n",
        "def schedule(epoch, learning_rate):\n",
        "  return 0.0001 if epoch>=50 else 0.001\n",
        "\n",
        "scheduler = tf.keras.callbacks.LearningRateScheduler(schedule)\n",
        "\n"
      ],
      "execution_count": 28,
      "outputs": []
    },
    {
      "cell_type": "code",
      "metadata": {
        "id": "9N83FpSzSWKL",
        "colab_type": "code",
        "colab": {
          "base_uri": "https://localhost:8080/",
          "height": 1000
        },
        "outputId": "422f80a5-bf4a-477d-e746-8304c59fccb5"
      },
      "source": [
        "r = model.fit(x,y, epochs=EPOCHS, callbacks=[scheduler])"
      ],
      "execution_count": 30,
      "outputs": [
        {
          "output_type": "stream",
          "text": [
            "Epoch 1/200\n",
            "6/6 [==============================] - 0s 1ms/step - loss: 318.0905\n",
            "Epoch 2/200\n",
            "6/6 [==============================] - 0s 1ms/step - loss: 327.5260\n",
            "Epoch 3/200\n",
            "6/6 [==============================] - 0s 1ms/step - loss: 446.6825\n",
            "Epoch 4/200\n",
            "6/6 [==============================] - 0s 1ms/step - loss: 321.6144\n",
            "Epoch 5/200\n",
            "6/6 [==============================] - 0s 1ms/step - loss: 396.7609\n",
            "Epoch 6/200\n",
            "6/6 [==============================] - 0s 1ms/step - loss: 236.3620\n",
            "Epoch 7/200\n",
            "6/6 [==============================] - 0s 1ms/step - loss: 238.1268\n",
            "Epoch 8/200\n",
            "6/6 [==============================] - 0s 1ms/step - loss: 239.3562\n",
            "Epoch 9/200\n",
            "6/6 [==============================] - 0s 1ms/step - loss: 128.9628\n",
            "Epoch 10/200\n",
            "6/6 [==============================] - 0s 2ms/step - loss: 61.2786\n",
            "Epoch 11/200\n",
            "6/6 [==============================] - 0s 1ms/step - loss: 47.4390\n",
            "Epoch 12/200\n",
            "6/6 [==============================] - 0s 1ms/step - loss: 32.6879\n",
            "Epoch 13/200\n",
            "6/6 [==============================] - 0s 1ms/step - loss: 23.9158\n",
            "Epoch 14/200\n",
            "6/6 [==============================] - 0s 1ms/step - loss: 22.8351\n",
            "Epoch 15/200\n",
            "6/6 [==============================] - 0s 1ms/step - loss: 20.6203\n",
            "Epoch 16/200\n",
            "6/6 [==============================] - 0s 2ms/step - loss: 16.4343\n",
            "Epoch 17/200\n",
            "6/6 [==============================] - 0s 1ms/step - loss: 31.2890\n",
            "Epoch 18/200\n",
            "6/6 [==============================] - 0s 1ms/step - loss: 9.6476\n",
            "Epoch 19/200\n",
            "6/6 [==============================] - 0s 2ms/step - loss: 5.4894\n",
            "Epoch 20/200\n",
            "6/6 [==============================] - 0s 1ms/step - loss: 3.4580\n",
            "Epoch 21/200\n",
            "6/6 [==============================] - 0s 1ms/step - loss: 1.8545\n",
            "Epoch 22/200\n",
            "6/6 [==============================] - 0s 1ms/step - loss: 1.4184\n",
            "Epoch 23/200\n",
            "6/6 [==============================] - 0s 1ms/step - loss: 2.2020\n",
            "Epoch 24/200\n",
            "6/6 [==============================] - 0s 2ms/step - loss: 1.5451\n",
            "Epoch 25/200\n",
            "6/6 [==============================] - 0s 1ms/step - loss: 1.2773\n",
            "Epoch 26/200\n",
            "6/6 [==============================] - 0s 1ms/step - loss: 1.0952\n",
            "Epoch 27/200\n",
            "6/6 [==============================] - 0s 2ms/step - loss: 0.9943\n",
            "Epoch 28/200\n",
            "6/6 [==============================] - 0s 1ms/step - loss: 1.0508\n",
            "Epoch 29/200\n",
            "6/6 [==============================] - 0s 1ms/step - loss: 0.9329\n",
            "Epoch 30/200\n",
            "6/6 [==============================] - 0s 1ms/step - loss: 0.9619\n",
            "Epoch 31/200\n",
            "6/6 [==============================] - 0s 1ms/step - loss: 0.8970\n",
            "Epoch 32/200\n",
            "6/6 [==============================] - 0s 1ms/step - loss: 0.9483\n",
            "Epoch 33/200\n",
            "6/6 [==============================] - 0s 1ms/step - loss: 0.9316\n",
            "Epoch 34/200\n",
            "6/6 [==============================] - 0s 1ms/step - loss: 0.9218\n",
            "Epoch 35/200\n",
            "6/6 [==============================] - 0s 2ms/step - loss: 0.9639\n",
            "Epoch 36/200\n",
            "6/6 [==============================] - 0s 1ms/step - loss: 1.1631\n",
            "Epoch 37/200\n",
            "6/6 [==============================] - 0s 1ms/step - loss: 1.0634\n",
            "Epoch 38/200\n",
            "6/6 [==============================] - 0s 1ms/step - loss: 0.9570\n",
            "Epoch 39/200\n",
            "6/6 [==============================] - 0s 1ms/step - loss: 0.8987\n",
            "Epoch 40/200\n",
            "6/6 [==============================] - 0s 1ms/step - loss: 0.8841\n",
            "Epoch 41/200\n",
            "6/6 [==============================] - 0s 1ms/step - loss: 0.9075\n",
            "Epoch 42/200\n",
            "6/6 [==============================] - 0s 1ms/step - loss: 0.8756\n",
            "Epoch 43/200\n",
            "6/6 [==============================] - 0s 1ms/step - loss: 0.8750\n",
            "Epoch 44/200\n",
            "6/6 [==============================] - 0s 1ms/step - loss: 0.9196\n",
            "Epoch 45/200\n",
            "6/6 [==============================] - 0s 1ms/step - loss: 0.9210\n",
            "Epoch 46/200\n",
            "6/6 [==============================] - 0s 1ms/step - loss: 1.9951\n",
            "Epoch 47/200\n",
            "6/6 [==============================] - 0s 1ms/step - loss: 1.8679\n",
            "Epoch 48/200\n",
            "6/6 [==============================] - 0s 1ms/step - loss: 1.1938\n",
            "Epoch 49/200\n",
            "6/6 [==============================] - 0s 1ms/step - loss: 1.0882\n",
            "Epoch 50/200\n",
            "6/6 [==============================] - 0s 2ms/step - loss: 1.3973\n",
            "Epoch 51/200\n",
            "6/6 [==============================] - 0s 1ms/step - loss: 1.6497\n",
            "Epoch 52/200\n",
            "6/6 [==============================] - 0s 1ms/step - loss: 1.2290\n",
            "Epoch 53/200\n",
            "6/6 [==============================] - 0s 1ms/step - loss: 0.9083\n",
            "Epoch 54/200\n",
            "6/6 [==============================] - 0s 1ms/step - loss: 1.0232\n",
            "Epoch 55/200\n",
            "6/6 [==============================] - 0s 1ms/step - loss: 0.8901\n",
            "Epoch 56/200\n",
            "6/6 [==============================] - 0s 1ms/step - loss: 0.8848\n",
            "Epoch 57/200\n",
            "6/6 [==============================] - 0s 1ms/step - loss: 0.9202\n",
            "Epoch 58/200\n",
            "6/6 [==============================] - 0s 1ms/step - loss: 0.8915\n",
            "Epoch 59/200\n",
            "6/6 [==============================] - 0s 1ms/step - loss: 0.8728\n",
            "Epoch 60/200\n",
            "6/6 [==============================] - 0s 1ms/step - loss: 0.8809\n",
            "Epoch 61/200\n",
            "6/6 [==============================] - 0s 1ms/step - loss: 0.8680\n",
            "Epoch 62/200\n",
            "6/6 [==============================] - 0s 1ms/step - loss: 0.8977\n",
            "Epoch 63/200\n",
            "6/6 [==============================] - 0s 1ms/step - loss: 0.8827\n",
            "Epoch 64/200\n",
            "6/6 [==============================] - 0s 1ms/step - loss: 0.9112\n",
            "Epoch 65/200\n",
            "6/6 [==============================] - 0s 1ms/step - loss: 0.9800\n",
            "Epoch 66/200\n",
            "6/6 [==============================] - 0s 1ms/step - loss: 0.9055\n",
            "Epoch 67/200\n",
            "6/6 [==============================] - 0s 1ms/step - loss: 0.9180\n",
            "Epoch 68/200\n",
            "6/6 [==============================] - 0s 1ms/step - loss: 0.9017\n",
            "Epoch 69/200\n",
            "6/6 [==============================] - 0s 1ms/step - loss: 0.8741\n",
            "Epoch 70/200\n",
            "6/6 [==============================] - 0s 1ms/step - loss: 0.8712\n",
            "Epoch 71/200\n",
            "6/6 [==============================] - 0s 2ms/step - loss: 0.8780\n",
            "Epoch 72/200\n",
            "6/6 [==============================] - 0s 1ms/step - loss: 0.8831\n",
            "Epoch 73/200\n",
            "6/6 [==============================] - 0s 1ms/step - loss: 0.8859\n",
            "Epoch 74/200\n",
            "6/6 [==============================] - 0s 2ms/step - loss: 0.8762\n",
            "Epoch 75/200\n",
            "6/6 [==============================] - 0s 1ms/step - loss: 0.8794\n",
            "Epoch 76/200\n",
            "6/6 [==============================] - 0s 1ms/step - loss: 0.8722\n",
            "Epoch 77/200\n",
            "6/6 [==============================] - 0s 1ms/step - loss: 0.8707\n",
            "Epoch 78/200\n",
            "6/6 [==============================] - 0s 1ms/step - loss: 0.8709\n",
            "Epoch 79/200\n",
            "6/6 [==============================] - 0s 1ms/step - loss: 0.8874\n",
            "Epoch 80/200\n",
            "6/6 [==============================] - 0s 1ms/step - loss: 0.8647\n",
            "Epoch 81/200\n",
            "6/6 [==============================] - 0s 1ms/step - loss: 0.8906\n",
            "Epoch 82/200\n",
            "6/6 [==============================] - 0s 1ms/step - loss: 0.8789\n",
            "Epoch 83/200\n",
            "6/6 [==============================] - 0s 3ms/step - loss: 0.8699\n",
            "Epoch 84/200\n",
            "6/6 [==============================] - 0s 1ms/step - loss: 0.8726\n",
            "Epoch 85/200\n",
            "6/6 [==============================] - 0s 1ms/step - loss: 0.8740\n",
            "Epoch 86/200\n",
            "6/6 [==============================] - 0s 1ms/step - loss: 0.8779\n",
            "Epoch 87/200\n",
            "6/6 [==============================] - 0s 1ms/step - loss: 0.8811\n",
            "Epoch 88/200\n",
            "6/6 [==============================] - 0s 1ms/step - loss: 0.8738\n",
            "Epoch 89/200\n",
            "6/6 [==============================] - 0s 1ms/step - loss: 0.9168\n",
            "Epoch 90/200\n",
            "6/6 [==============================] - 0s 1ms/step - loss: 0.9390\n",
            "Epoch 91/200\n",
            "6/6 [==============================] - 0s 1ms/step - loss: 0.8900\n",
            "Epoch 92/200\n",
            "6/6 [==============================] - 0s 1ms/step - loss: 0.8866\n",
            "Epoch 93/200\n",
            "6/6 [==============================] - 0s 1ms/step - loss: 0.8960\n",
            "Epoch 94/200\n",
            "6/6 [==============================] - 0s 2ms/step - loss: 0.8891\n",
            "Epoch 95/200\n",
            "6/6 [==============================] - 0s 1ms/step - loss: 0.8755\n",
            "Epoch 96/200\n",
            "6/6 [==============================] - 0s 1ms/step - loss: 0.8709\n",
            "Epoch 97/200\n",
            "6/6 [==============================] - 0s 1ms/step - loss: 0.8723\n",
            "Epoch 98/200\n",
            "6/6 [==============================] - 0s 1ms/step - loss: 0.8847\n",
            "Epoch 99/200\n",
            "6/6 [==============================] - 0s 1ms/step - loss: 0.9020\n",
            "Epoch 100/200\n",
            "6/6 [==============================] - 0s 1ms/step - loss: 0.8893\n",
            "Epoch 101/200\n",
            "6/6 [==============================] - 0s 1ms/step - loss: 0.8704\n",
            "Epoch 102/200\n",
            "6/6 [==============================] - 0s 1ms/step - loss: 0.8762\n",
            "Epoch 103/200\n",
            "6/6 [==============================] - 0s 1ms/step - loss: 0.8796\n",
            "Epoch 104/200\n",
            "6/6 [==============================] - 0s 1ms/step - loss: 0.8774\n",
            "Epoch 105/200\n",
            "6/6 [==============================] - 0s 1ms/step - loss: 0.8800\n",
            "Epoch 106/200\n",
            "6/6 [==============================] - 0s 2ms/step - loss: 0.8765\n",
            "Epoch 107/200\n",
            "6/6 [==============================] - 0s 1ms/step - loss: 0.8727\n",
            "Epoch 108/200\n",
            "6/6 [==============================] - 0s 1ms/step - loss: 0.8730\n",
            "Epoch 109/200\n",
            "6/6 [==============================] - 0s 1ms/step - loss: 0.8740\n",
            "Epoch 110/200\n",
            "6/6 [==============================] - 0s 1ms/step - loss: 0.8707\n",
            "Epoch 111/200\n",
            "6/6 [==============================] - 0s 1ms/step - loss: 0.8725\n",
            "Epoch 112/200\n",
            "6/6 [==============================] - 0s 1ms/step - loss: 0.8796\n",
            "Epoch 113/200\n",
            "6/6 [==============================] - 0s 1ms/step - loss: 0.8804\n",
            "Epoch 114/200\n",
            "6/6 [==============================] - 0s 1ms/step - loss: 0.8727\n",
            "Epoch 115/200\n",
            "6/6 [==============================] - 0s 1ms/step - loss: 0.8770\n",
            "Epoch 116/200\n",
            "6/6 [==============================] - 0s 1ms/step - loss: 0.8827\n",
            "Epoch 117/200\n",
            "6/6 [==============================] - 0s 1ms/step - loss: 0.8748\n",
            "Epoch 118/200\n",
            "6/6 [==============================] - 0s 1ms/step - loss: 0.8727\n",
            "Epoch 119/200\n",
            "6/6 [==============================] - 0s 1ms/step - loss: 0.8734\n",
            "Epoch 120/200\n",
            "6/6 [==============================] - 0s 1ms/step - loss: 0.8811\n",
            "Epoch 121/200\n",
            "6/6 [==============================] - 0s 1ms/step - loss: 0.8893\n",
            "Epoch 122/200\n",
            "6/6 [==============================] - 0s 1ms/step - loss: 0.8888\n",
            "Epoch 123/200\n",
            "6/6 [==============================] - 0s 1ms/step - loss: 0.8737\n",
            "Epoch 124/200\n",
            "6/6 [==============================] - 0s 2ms/step - loss: 0.8743\n",
            "Epoch 125/200\n",
            "6/6 [==============================] - 0s 2ms/step - loss: 0.8708\n",
            "Epoch 126/200\n",
            "6/6 [==============================] - 0s 1ms/step - loss: 0.8954\n",
            "Epoch 127/200\n",
            "6/6 [==============================] - 0s 2ms/step - loss: 0.8901\n",
            "Epoch 128/200\n",
            "6/6 [==============================] - 0s 1ms/step - loss: 0.8710\n",
            "Epoch 129/200\n",
            "6/6 [==============================] - 0s 1ms/step - loss: 0.9007\n",
            "Epoch 130/200\n",
            "6/6 [==============================] - 0s 1ms/step - loss: 0.9366\n",
            "Epoch 131/200\n",
            "6/6 [==============================] - 0s 1ms/step - loss: 0.8991\n",
            "Epoch 132/200\n",
            "6/6 [==============================] - 0s 1ms/step - loss: 0.8725\n",
            "Epoch 133/200\n",
            "6/6 [==============================] - 0s 2ms/step - loss: 0.8759\n",
            "Epoch 134/200\n",
            "6/6 [==============================] - 0s 1ms/step - loss: 0.8946\n",
            "Epoch 135/200\n",
            "6/6 [==============================] - 0s 1ms/step - loss: 0.8969\n",
            "Epoch 136/200\n",
            "6/6 [==============================] - 0s 1ms/step - loss: 0.8758\n",
            "Epoch 137/200\n",
            "6/6 [==============================] - 0s 1ms/step - loss: 0.8701\n",
            "Epoch 138/200\n",
            "6/6 [==============================] - 0s 1ms/step - loss: 0.8719\n",
            "Epoch 139/200\n",
            "6/6 [==============================] - 0s 1ms/step - loss: 0.8730\n",
            "Epoch 140/200\n",
            "6/6 [==============================] - 0s 1ms/step - loss: 0.8722\n",
            "Epoch 141/200\n",
            "6/6 [==============================] - 0s 1ms/step - loss: 0.8765\n",
            "Epoch 142/200\n",
            "6/6 [==============================] - 0s 1ms/step - loss: 0.8783\n",
            "Epoch 143/200\n",
            "6/6 [==============================] - 0s 1ms/step - loss: 0.8703\n",
            "Epoch 144/200\n",
            "6/6 [==============================] - 0s 1ms/step - loss: 0.8929\n",
            "Epoch 145/200\n",
            "6/6 [==============================] - 0s 1ms/step - loss: 0.9371\n",
            "Epoch 146/200\n",
            "6/6 [==============================] - 0s 1ms/step - loss: 0.9461\n",
            "Epoch 147/200\n",
            "6/6 [==============================] - 0s 2ms/step - loss: 0.8956\n",
            "Epoch 148/200\n",
            "6/6 [==============================] - 0s 2ms/step - loss: 0.8892\n",
            "Epoch 149/200\n",
            "6/6 [==============================] - 0s 2ms/step - loss: 0.8832\n",
            "Epoch 150/200\n",
            "6/6 [==============================] - 0s 1ms/step - loss: 0.8714\n",
            "Epoch 151/200\n",
            "6/6 [==============================] - 0s 1ms/step - loss: 0.8735\n",
            "Epoch 152/200\n",
            "6/6 [==============================] - 0s 1ms/step - loss: 0.8821\n",
            "Epoch 153/200\n",
            "6/6 [==============================] - 0s 1ms/step - loss: 0.8801\n",
            "Epoch 154/200\n",
            "6/6 [==============================] - 0s 1ms/step - loss: 0.8758\n",
            "Epoch 155/200\n",
            "6/6 [==============================] - 0s 1ms/step - loss: 0.8713\n",
            "Epoch 156/200\n",
            "6/6 [==============================] - 0s 1ms/step - loss: 0.8732\n",
            "Epoch 157/200\n",
            "6/6 [==============================] - 0s 1ms/step - loss: 0.8708\n",
            "Epoch 158/200\n",
            "6/6 [==============================] - 0s 1ms/step - loss: 0.8721\n",
            "Epoch 159/200\n",
            "6/6 [==============================] - 0s 1ms/step - loss: 0.8766\n",
            "Epoch 160/200\n",
            "6/6 [==============================] - 0s 1ms/step - loss: 0.8866\n",
            "Epoch 161/200\n",
            "6/6 [==============================] - 0s 1ms/step - loss: 0.8696\n",
            "Epoch 162/200\n",
            "6/6 [==============================] - 0s 1ms/step - loss: 0.9019\n",
            "Epoch 163/200\n",
            "6/6 [==============================] - 0s 1ms/step - loss: 0.8913\n",
            "Epoch 164/200\n",
            "6/6 [==============================] - 0s 2ms/step - loss: 0.8703\n",
            "Epoch 165/200\n",
            "6/6 [==============================] - 0s 1ms/step - loss: 0.9257\n",
            "Epoch 166/200\n",
            "6/6 [==============================] - 0s 2ms/step - loss: 0.9093\n",
            "Epoch 167/200\n",
            "6/6 [==============================] - 0s 1ms/step - loss: 0.8864\n",
            "Epoch 168/200\n",
            "6/6 [==============================] - 0s 1ms/step - loss: 0.8884\n",
            "Epoch 169/200\n",
            "6/6 [==============================] - 0s 1ms/step - loss: 0.8799\n",
            "Epoch 170/200\n",
            "6/6 [==============================] - 0s 2ms/step - loss: 0.8721\n",
            "Epoch 171/200\n",
            "6/6 [==============================] - 0s 1ms/step - loss: 0.8738\n",
            "Epoch 172/200\n",
            "6/6 [==============================] - 0s 1ms/step - loss: 0.8763\n",
            "Epoch 173/200\n",
            "6/6 [==============================] - 0s 1ms/step - loss: 0.8761\n",
            "Epoch 174/200\n",
            "6/6 [==============================] - 0s 1ms/step - loss: 0.8699\n",
            "Epoch 175/200\n",
            "6/6 [==============================] - 0s 1ms/step - loss: 0.8745\n",
            "Epoch 176/200\n",
            "6/6 [==============================] - 0s 1ms/step - loss: 0.8721\n",
            "Epoch 177/200\n",
            "6/6 [==============================] - 0s 1ms/step - loss: 0.8723\n",
            "Epoch 178/200\n",
            "6/6 [==============================] - 0s 1ms/step - loss: 0.8934\n",
            "Epoch 179/200\n",
            "6/6 [==============================] - 0s 1ms/step - loss: 0.8913\n",
            "Epoch 180/200\n",
            "6/6 [==============================] - 0s 1ms/step - loss: 0.8670\n",
            "Epoch 181/200\n",
            "6/6 [==============================] - 0s 1ms/step - loss: 0.8768\n",
            "Epoch 182/200\n",
            "6/6 [==============================] - 0s 1ms/step - loss: 0.8684\n",
            "Epoch 183/200\n",
            "6/6 [==============================] - 0s 1ms/step - loss: 0.8760\n",
            "Epoch 184/200\n",
            "6/6 [==============================] - 0s 1ms/step - loss: 0.8748\n",
            "Epoch 185/200\n",
            "6/6 [==============================] - 0s 2ms/step - loss: 0.8748\n",
            "Epoch 186/200\n",
            "6/6 [==============================] - 0s 1ms/step - loss: 0.8903\n",
            "Epoch 187/200\n",
            "6/6 [==============================] - 0s 1ms/step - loss: 0.8881\n",
            "Epoch 188/200\n",
            "6/6 [==============================] - 0s 1ms/step - loss: 0.8757\n",
            "Epoch 189/200\n",
            "6/6 [==============================] - 0s 1ms/step - loss: 0.8736\n",
            "Epoch 190/200\n",
            "6/6 [==============================] - 0s 1ms/step - loss: 0.8914\n",
            "Epoch 191/200\n",
            "6/6 [==============================] - 0s 4ms/step - loss: 0.9220\n",
            "Epoch 192/200\n",
            "6/6 [==============================] - 0s 1ms/step - loss: 0.9030\n",
            "Epoch 193/200\n",
            "6/6 [==============================] - 0s 2ms/step - loss: 0.8702\n",
            "Epoch 194/200\n",
            "6/6 [==============================] - 0s 1ms/step - loss: 0.8788\n",
            "Epoch 195/200\n",
            "6/6 [==============================] - 0s 1ms/step - loss: 0.8736\n",
            "Epoch 196/200\n",
            "6/6 [==============================] - 0s 1ms/step - loss: 0.8739\n",
            "Epoch 197/200\n",
            "6/6 [==============================] - 0s 2ms/step - loss: 0.9008\n",
            "Epoch 198/200\n",
            "6/6 [==============================] - 0s 2ms/step - loss: 0.8909\n",
            "Epoch 199/200\n",
            "6/6 [==============================] - 0s 1ms/step - loss: 0.8710\n",
            "Epoch 200/200\n",
            "6/6 [==============================] - 0s 1ms/step - loss: 0.8746\n"
          ],
          "name": "stdout"
        }
      ]
    },
    {
      "cell_type": "code",
      "metadata": {
        "id": "OH_V2NmcTDE3",
        "colab_type": "code",
        "colab": {
          "base_uri": "https://localhost:8080/",
          "height": 282
        },
        "outputId": "56d227f4-5e7d-42c5-9b15-8a5b5c265679"
      },
      "source": [
        "plt.plot(r.history['loss'], label='loss')"
      ],
      "execution_count": 31,
      "outputs": [
        {
          "output_type": "execute_result",
          "data": {
            "text/plain": [
              "[<matplotlib.lines.Line2D at 0x7fa4af6cc978>]"
            ]
          },
          "metadata": {
            "tags": []
          },
          "execution_count": 31
        },
        {
          "output_type": "display_data",
          "data": {
            "image/png": "[encoded data removed]",
            "text/plain": [
              "<Figure size 432x288 with 1 Axes>"
            ]
          },
          "metadata": {
            "tags": [],
            "needs_background": "light"
          }
        }
      ]
    },
    {
      "cell_type": "code",
      "metadata": {
        "id": "I57_070bTjxN",
        "colab_type": "code",
        "colab": {
          "base_uri": "https://localhost:8080/",
          "height": 68
        },
        "outputId": "21db379a-fd35-4128-cc7d-fdef9e69dfe6"
      },
      "source": [
        "print(model.layers)\n",
        "print(model.layers[0].get_weights())\n",
        "slope = model.layers[0].get_weights()[0][0,0]\n",
        "slope"
      ],
      "execution_count": 37,
      "outputs": [
        {
          "output_type": "stream",
          "text": [
            "[<tensorflow.python.keras.layers.core.Dense object at 0x7fa4b1e25518>]\n",
            "[array([[0.3409239]], dtype=float32), array([17.735052], dtype=float32)]\n"
          ],
          "name": "stdout"
        },
        {
          "output_type": "execute_result",
          "data": {
            "text/plain": [
              "0.3409239"
            ]
          },
          "metadata": {
            "tags": []
          },
          "execution_count": 37
        }
      ]
    },
    {
      "cell_type": "code",
      "metadata": {
        "id": "aUoi5QI3UKzJ",
        "colab_type": "code",
        "colab": {
          "base_uri": "https://localhost:8080/",
          "height": 34
        },
        "outputId": "0ccbe357-370a-401a-aa07-588bb9f45412"
      },
      "source": [
        "time_to_double = np.log(2)/slope\n",
        "time_to_double\n",
        "print(\"Moore's law is correct\" if np.abs(time_to_double - 2) < 0.1 else \"Moore's law is rubbish\")"
      ],
      "execution_count": 41,
      "outputs": [
        {
          "output_type": "stream",
          "text": [
            "Moore's law is correct\n"
          ],
          "name": "stdout"
        }
      ]
    }
  ]
}