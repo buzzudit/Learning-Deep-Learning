{
  "nbformat": 4,
  "nbformat_minor": 0,
  "metadata": {
    "colab": {
      "name": "Autoregressive Linear Time Series.ipynb",
      "provenance": [],
      "authorship_tag": "ABX9TyOCYDXqCOh0/QWf+Aq/44He",
      "include_colab_link": true
    },
    "kernelspec": {
      "name": "python3",
      "display_name": "Python 3"
    },
    "accelerator": "GPU"
  },
  "cells": [
    {
      "cell_type": "markdown",
      "metadata": {
        "id": "view-in-github",
        "colab_type": "text"
      },
      "source": [
        "<a href=\"https://colab.research.google.com/github/buzzudit/Learning-Deep-Learning/blob/master/RNN/Autoregressive_Linear_Time_Series.ipynb\" target=\"_parent\"><img src=\"https://colab.research.google.com/assets/colab-badge.svg\" alt=\"Open In Colab\"/></a>"
      ]
    },
    {
      "cell_type": "code",
      "metadata": {
        "id": "iYfQ0bfI7fLC",
        "colab_type": "code",
        "colab": {
          "base_uri": "https://localhost:8080/",
          "height": 34
        },
        "outputId": "7ae01f68-2098-46d1-9d54-e73234e930ff"
      },
      "source": [
        "!pip install -q tensorflow-gpu -U"
      ],
      "execution_count": 1,
      "outputs": [
        {
          "output_type": "stream",
          "text": [
            "\u001b[K     |████████████████████████████████| 320.4MB 52kB/s \n",
            "\u001b[?25h"
          ],
          "name": "stdout"
        }
      ]
    },
    {
      "cell_type": "code",
      "metadata": {
        "id": "U7mG3M9P9SN3",
        "colab_type": "code",
        "colab": {}
      },
      "source": [
        "import tensorflow as tf\n",
        "from tensorflow.keras.layers import Input, Dense\n",
        "from tensorflow.keras.models import Model\n",
        "from tensorflow.keras.optimizers import SGD, Adam\n",
        "\n",
        "import numpy as np\n",
        "import pandas as pd\n",
        "import matplotlib.pyplot as plt"
      ],
      "execution_count": 2,
      "outputs": []
    },
    {
      "cell_type": "code",
      "metadata": {
        "id": "RZ4zf4QG90pD",
        "colab_type": "code",
        "colab": {
          "base_uri": "https://localhost:8080/",
          "height": 282
        },
        "outputId": "288f6d9f-f835-40a1-f631-c7745a4126fc"
      },
      "source": [
        "#synthetic dataset\n",
        "noise = np.random.randn(200)*0.1\n",
        "series = np.sin(0.1*np.arange(200))+noise\n",
        "plt.plot(series)"
      ],
      "execution_count": 23,
      "outputs": [
        {
          "output_type": "execute_result",
          "data": {
            "text/plain": [
              "[<matplotlib.lines.Line2D at 0x7fa03592d588>]"
            ]
          },
          "metadata": {
            "tags": []
          },
          "execution_count": 23
        },
        {
          "output_type": "display_data",
          "data": {
            "image/png": "[encoded data removed]",
            "text/plain": [
              "<Figure size 432x288 with 1 Axes>"
            ]
          },
          "metadata": {
            "tags": [],
            "needs_background": "light"
          }
        }
      ]
    },
    {
      "cell_type": "code",
      "metadata": {
        "id": "yW7mMPIZ-6Jl",
        "colab_type": "code",
        "colab": {
          "base_uri": "https://localhost:8080/",
          "height": 34
        },
        "outputId": "7b1c213d-03a0-487e-b7d3-6cfe80c059f4"
      },
      "source": [
        "T = 10\n",
        "X = []\n",
        "Y = []\n",
        "for t in range(len(series) - T):\n",
        "  x = series[t:t+T]\n",
        "  X.append(x)\n",
        "  y = series[t+T]\n",
        "  Y.append(y)\n",
        "\n",
        "X = np.array(X).reshape(-1, T)\n",
        "Y = np.array(Y)\n",
        "N = len(X)\n",
        "print(\"X.shape:\",X.shape,\"Y.shape\",Y.shape)"
      ],
      "execution_count": 24,
      "outputs": [
        {
          "output_type": "stream",
          "text": [
            "X.shape: (190, 10) Y.shape (190,)\n"
          ],
          "name": "stdout"
        }
      ]
    },
    {
      "cell_type": "code",
      "metadata": {
        "id": "7AWkcsX0_yj-",
        "colab_type": "code",
        "colab": {}
      },
      "source": [
        "i = Input(shape = (T,))\n",
        "x = Dense(1)(i)\n",
        "model = Model(i,x)\n",
        "model.compile(loss='mse', optimizer=Adam(lr=0.1))"
      ],
      "execution_count": 25,
      "outputs": []
    },
    {
      "cell_type": "code",
      "metadata": {
        "id": "pOkyx72or7f1",
        "colab_type": "code",
        "colab": {
          "base_uri": "https://localhost:8080/",
          "height": 1000
        },
        "outputId": "76fb10a3-2fd9-446e-b71f-2dd94941b494"
      },
      "source": [
        "r = model.fit(\n",
        "    X[:-N//2], Y[:-N//2],\n",
        "    epochs = 80,\n",
        "    validation_data = (X[-N//2:],Y[-N//2:]),\n",
        ")"
      ],
      "execution_count": 26,
      "outputs": [
        {
          "output_type": "stream",
          "text": [
            "Epoch 1/80\n",
            "3/3 [==============================] - 0s 33ms/step - loss: 1.9542 - val_loss: 0.0854\n",
            "Epoch 2/80\n",
            "3/3 [==============================] - 0s 9ms/step - loss: 0.3897 - val_loss: 0.7465\n",
            "Epoch 3/80\n",
            "3/3 [==============================] - 0s 9ms/step - loss: 0.8381 - val_loss: 0.4070\n",
            "Epoch 4/80\n",
            "3/3 [==============================] - 0s 8ms/step - loss: 0.2274 - val_loss: 0.0395\n",
            "Epoch 5/80\n",
            "3/3 [==============================] - 0s 9ms/step - loss: 0.1589 - val_loss: 0.2299\n",
            "Epoch 6/80\n",
            "3/3 [==============================] - 0s 9ms/step - loss: 0.3556 - val_loss: 0.1610\n",
            "Epoch 7/80\n",
            "3/3 [==============================] - 0s 10ms/step - loss: 0.1480 - val_loss: 0.0224\n",
            "Epoch 8/80\n",
            "3/3 [==============================] - 0s 14ms/step - loss: 0.0496 - val_loss: 0.1103\n",
            "Epoch 9/80\n",
            "3/3 [==============================] - 0s 8ms/step - loss: 0.1464 - val_loss: 0.0940\n",
            "Epoch 10/80\n",
            "3/3 [==============================] - 0s 9ms/step - loss: 0.0898 - val_loss: 0.0213\n",
            "Epoch 11/80\n",
            "3/3 [==============================] - 0s 9ms/step - loss: 0.0413 - val_loss: 0.0728\n",
            "Epoch 12/80\n",
            "3/3 [==============================] - 0s 8ms/step - loss: 0.0781 - val_loss: 0.0645\n",
            "Epoch 13/80\n",
            "3/3 [==============================] - 0s 8ms/step - loss: 0.0573 - val_loss: 0.0169\n",
            "Epoch 14/80\n",
            "3/3 [==============================] - 0s 10ms/step - loss: 0.0374 - val_loss: 0.0323\n",
            "Epoch 15/80\n",
            "3/3 [==============================] - 0s 9ms/step - loss: 0.0471 - val_loss: 0.0292\n",
            "Epoch 16/80\n",
            "3/3 [==============================] - 0s 8ms/step - loss: 0.0355 - val_loss: 0.0171\n",
            "Epoch 17/80\n",
            "3/3 [==============================] - 0s 9ms/step - loss: 0.0331 - val_loss: 0.0212\n",
            "Epoch 18/80\n",
            "3/3 [==============================] - 0s 8ms/step - loss: 0.0357 - val_loss: 0.0165\n",
            "Epoch 19/80\n",
            "3/3 [==============================] - 0s 9ms/step - loss: 0.0287 - val_loss: 0.0160\n",
            "Epoch 20/80\n",
            "3/3 [==============================] - 0s 8ms/step - loss: 0.0320 - val_loss: 0.0176\n",
            "Epoch 21/80\n",
            "3/3 [==============================] - 0s 10ms/step - loss: 0.0303 - val_loss: 0.0152\n",
            "Epoch 22/80\n",
            "3/3 [==============================] - 0s 9ms/step - loss: 0.0273 - val_loss: 0.0164\n",
            "Epoch 23/80\n",
            "3/3 [==============================] - 0s 9ms/step - loss: 0.0285 - val_loss: 0.0154\n",
            "Epoch 24/80\n",
            "3/3 [==============================] - 0s 9ms/step - loss: 0.0273 - val_loss: 0.0147\n",
            "Epoch 25/80\n",
            "3/3 [==============================] - 0s 9ms/step - loss: 0.0272 - val_loss: 0.0155\n",
            "Epoch 26/80\n",
            "3/3 [==============================] - 0s 9ms/step - loss: 0.0273 - val_loss: 0.0146\n",
            "Epoch 27/80\n",
            "3/3 [==============================] - 0s 9ms/step - loss: 0.0269 - val_loss: 0.0150\n",
            "Epoch 28/80\n",
            "3/3 [==============================] - 0s 11ms/step - loss: 0.0266 - val_loss: 0.0144\n",
            "Epoch 29/80\n",
            "3/3 [==============================] - 0s 9ms/step - loss: 0.0261 - val_loss: 0.0142\n",
            "Epoch 30/80\n",
            "3/3 [==============================] - 0s 8ms/step - loss: 0.0258 - val_loss: 0.0138\n",
            "Epoch 31/80\n",
            "3/3 [==============================] - 0s 9ms/step - loss: 0.0250 - val_loss: 0.0137\n",
            "Epoch 32/80\n",
            "3/3 [==============================] - 0s 9ms/step - loss: 0.0249 - val_loss: 0.0137\n",
            "Epoch 33/80\n",
            "3/3 [==============================] - 0s 9ms/step - loss: 0.0244 - val_loss: 0.0135\n",
            "Epoch 34/80\n",
            "3/3 [==============================] - 0s 9ms/step - loss: 0.0244 - val_loss: 0.0135\n",
            "Epoch 35/80\n",
            "3/3 [==============================] - 0s 9ms/step - loss: 0.0242 - val_loss: 0.0134\n",
            "Epoch 36/80\n",
            "3/3 [==============================] - 0s 9ms/step - loss: 0.0239 - val_loss: 0.0133\n",
            "Epoch 37/80\n",
            "3/3 [==============================] - 0s 10ms/step - loss: 0.0236 - val_loss: 0.0131\n",
            "Epoch 38/80\n",
            "3/3 [==============================] - 0s 9ms/step - loss: 0.0235 - val_loss: 0.0134\n",
            "Epoch 39/80\n",
            "3/3 [==============================] - 0s 9ms/step - loss: 0.0232 - val_loss: 0.0129\n",
            "Epoch 40/80\n",
            "3/3 [==============================] - 0s 11ms/step - loss: 0.0230 - val_loss: 0.0131\n",
            "Epoch 41/80\n",
            "3/3 [==============================] - 0s 8ms/step - loss: 0.0227 - val_loss: 0.0129\n",
            "Epoch 42/80\n",
            "3/3 [==============================] - 0s 8ms/step - loss: 0.0240 - val_loss: 0.0134\n",
            "Epoch 43/80\n",
            "3/3 [==============================] - 0s 11ms/step - loss: 0.0222 - val_loss: 0.0126\n",
            "Epoch 44/80\n",
            "3/3 [==============================] - 0s 10ms/step - loss: 0.0216 - val_loss: 0.0127\n",
            "Epoch 45/80\n",
            "3/3 [==============================] - 0s 9ms/step - loss: 0.0221 - val_loss: 0.0126\n",
            "Epoch 46/80\n",
            "3/3 [==============================] - 0s 9ms/step - loss: 0.0215 - val_loss: 0.0126\n",
            "Epoch 47/80\n",
            "3/3 [==============================] - 0s 9ms/step - loss: 0.0214 - val_loss: 0.0124\n",
            "Epoch 48/80\n",
            "3/3 [==============================] - 0s 8ms/step - loss: 0.0208 - val_loss: 0.0125\n",
            "Epoch 49/80\n",
            "3/3 [==============================] - 0s 8ms/step - loss: 0.0214 - val_loss: 0.0125\n",
            "Epoch 50/80\n",
            "3/3 [==============================] - 0s 9ms/step - loss: 0.0204 - val_loss: 0.0126\n",
            "Epoch 51/80\n",
            "3/3 [==============================] - 0s 8ms/step - loss: 0.0209 - val_loss: 0.0124\n",
            "Epoch 52/80\n",
            "3/3 [==============================] - 0s 10ms/step - loss: 0.0203 - val_loss: 0.0121\n",
            "Epoch 53/80\n",
            "3/3 [==============================] - 0s 9ms/step - loss: 0.0197 - val_loss: 0.0122\n",
            "Epoch 54/80\n",
            "3/3 [==============================] - 0s 9ms/step - loss: 0.0199 - val_loss: 0.0120\n",
            "Epoch 55/80\n",
            "3/3 [==============================] - 0s 9ms/step - loss: 0.0197 - val_loss: 0.0120\n",
            "Epoch 56/80\n",
            "3/3 [==============================] - 0s 8ms/step - loss: 0.0198 - val_loss: 0.0120\n",
            "Epoch 57/80\n",
            "3/3 [==============================] - 0s 8ms/step - loss: 0.0191 - val_loss: 0.0121\n",
            "Epoch 58/80\n",
            "3/3 [==============================] - 0s 9ms/step - loss: 0.0193 - val_loss: 0.0120\n",
            "Epoch 59/80\n",
            "3/3 [==============================] - 0s 8ms/step - loss: 0.0191 - val_loss: 0.0121\n",
            "Epoch 60/80\n",
            "3/3 [==============================] - 0s 8ms/step - loss: 0.0189 - val_loss: 0.0120\n",
            "Epoch 61/80\n",
            "3/3 [==============================] - 0s 10ms/step - loss: 0.0188 - val_loss: 0.0118\n",
            "Epoch 62/80\n",
            "3/3 [==============================] - 0s 9ms/step - loss: 0.0200 - val_loss: 0.0122\n",
            "Epoch 63/80\n",
            "3/3 [==============================] - 0s 8ms/step - loss: 0.0181 - val_loss: 0.0120\n",
            "Epoch 64/80\n",
            "3/3 [==============================] - 0s 9ms/step - loss: 0.0190 - val_loss: 0.0125\n",
            "Epoch 65/80\n",
            "3/3 [==============================] - 0s 9ms/step - loss: 0.0181 - val_loss: 0.0119\n",
            "Epoch 66/80\n",
            "3/3 [==============================] - 0s 8ms/step - loss: 0.0183 - val_loss: 0.0120\n",
            "Epoch 67/80\n",
            "3/3 [==============================] - 0s 11ms/step - loss: 0.0180 - val_loss: 0.0117\n",
            "Epoch 68/80\n",
            "3/3 [==============================] - 0s 8ms/step - loss: 0.0178 - val_loss: 0.0117\n",
            "Epoch 69/80\n",
            "3/3 [==============================] - 0s 8ms/step - loss: 0.0184 - val_loss: 0.0117\n",
            "Epoch 70/80\n",
            "3/3 [==============================] - 0s 11ms/step - loss: 0.0177 - val_loss: 0.0121\n",
            "Epoch 71/80\n",
            "3/3 [==============================] - 0s 10ms/step - loss: 0.0175 - val_loss: 0.0117\n",
            "Epoch 72/80\n",
            "3/3 [==============================] - 0s 8ms/step - loss: 0.0172 - val_loss: 0.0118\n",
            "Epoch 73/80\n",
            "3/3 [==============================] - 0s 9ms/step - loss: 0.0175 - val_loss: 0.0117\n",
            "Epoch 74/80\n",
            "3/3 [==============================] - 0s 8ms/step - loss: 0.0172 - val_loss: 0.0118\n",
            "Epoch 75/80\n",
            "3/3 [==============================] - 0s 8ms/step - loss: 0.0174 - val_loss: 0.0117\n",
            "Epoch 76/80\n",
            "3/3 [==============================] - 0s 9ms/step - loss: 0.0171 - val_loss: 0.0119\n",
            "Epoch 77/80\n",
            "3/3 [==============================] - 0s 9ms/step - loss: 0.0179 - val_loss: 0.0118\n",
            "Epoch 78/80\n",
            "3/3 [==============================] - 0s 9ms/step - loss: 0.0169 - val_loss: 0.0128\n",
            "Epoch 79/80\n",
            "3/3 [==============================] - 0s 9ms/step - loss: 0.0175 - val_loss: 0.0117\n",
            "Epoch 80/80\n",
            "3/3 [==============================] - 0s 9ms/step - loss: 0.0165 - val_loss: 0.0120\n"
          ],
          "name": "stdout"
        }
      ]
    },
    {
      "cell_type": "code",
      "metadata": {
        "id": "NTJkZ6aisVUp",
        "colab_type": "code",
        "colab": {
          "base_uri": "https://localhost:8080/",
          "height": 282
        },
        "outputId": "fc035725-76d6-4fc0-a347-2c75808ce59e"
      },
      "source": [
        "plt.plot(r.history['loss'],label='loss')\n",
        "plt.plot(r.history['val_loss'],label='val_loss')\n",
        "plt.legend()"
      ],
      "execution_count": 27,
      "outputs": [
        {
          "output_type": "execute_result",
          "data": {
            "text/plain": [
              "<matplotlib.legend.Legend at 0x7fa097b0d470>"
            ]
          },
          "metadata": {
            "tags": []
          },
          "execution_count": 27
        },
        {
          "output_type": "display_data",
          "data": {
            "image/png": "[encoded data removed]",
            "text/plain": [
              "<Figure size 432x288 with 1 Axes>"
            ]
          },
          "metadata": {
            "tags": [],
            "needs_background": "light"
          }
        }
      ]
    },
    {
      "cell_type": "code",
      "metadata": {
        "id": "3n7K_FbJssUy",
        "colab_type": "code",
        "colab": {}
      },
      "source": [
        "#Validate\n",
        "target = Y[-N//2:]\n",
        "predictions = []\n",
        "\n",
        "last_x = X[-N//2]\n",
        "\n",
        "while len(predictions) < len(target):\n",
        "  p = model.predict(last_x.reshape(1, -1))[0,0]\n",
        "  predictions.append(p)\n",
        "\n",
        "  last_x = np.roll(last_x, -1)\n",
        "  last_x[-1] = p\n",
        "\n"
      ],
      "execution_count": 28,
      "outputs": []
    },
    {
      "cell_type": "code",
      "metadata": {
        "id": "fviQkPc2wde4",
        "colab_type": "code",
        "colab": {
          "base_uri": "https://localhost:8080/",
          "height": 282
        },
        "outputId": "98556e85-7b1c-4adc-a20a-a95186c4c3e1"
      },
      "source": [
        "plt.plot(target,label=\"Target\",linewidth=5,c='yellow')\n",
        "plt.plot(predictions,label=\"Prediction\",c='red',linewidth=1)\n",
        "plt.legend()"
      ],
      "execution_count": 29,
      "outputs": [
        {
          "output_type": "execute_result",
          "data": {
            "text/plain": [
              "<matplotlib.legend.Legend at 0x7fa0360c0be0>"
            ]
          },
          "metadata": {
            "tags": []
          },
          "execution_count": 29
        },
        {
          "output_type": "display_data",
          "data": {
            "image/png": "[encoded data removed]",
            "text/plain": [
              "<Figure size 432x288 with 1 Axes>"
            ]
          },
          "metadata": {
            "tags": [],
            "needs_background": "light"
          }
        }
      ]
    },
    {
      "cell_type": "code",
      "metadata": {
        "id": "DAXb2LlBw_0p",
        "colab_type": "code",
        "colab": {}
      },
      "source": [
        ""
      ],
      "execution_count": null,
      "outputs": []
    }
  ]
}