{
  "nbformat": 4,
  "nbformat_minor": 0,
  "metadata": {
    "colab": {
      "name": "SimpleRNN Sine.ipynb",
      "provenance": [],
      "authorship_tag": "ABX9TyM4EQ/SqysCT1uFZquZSutt",
      "include_colab_link": true
    },
    "kernelspec": {
      "name": "python3",
      "display_name": "Python 3"
    }
  },
  "cells": [
    {
      "cell_type": "markdown",
      "metadata": {
        "id": "view-in-github",
        "colab_type": "text"
      },
      "source": [
        "<a href=\"https://colab.research.google.com/github/buzzudit/Learning-Deep-Learning/blob/master/RNN/SimpleRNN_Sine.ipynb\" target=\"_parent\"><img src=\"https://colab.research.google.com/assets/colab-badge.svg\" alt=\"Open In Colab\"/></a>"
      ]
    },
    {
      "cell_type": "code",
      "metadata": {
        "id": "4MMowMa8_vuC",
        "colab_type": "code",
        "colab": {
          "base_uri": "https://localhost:8080/",
          "height": 34
        },
        "outputId": "889e02cf-e758-4266-ec2c-a9dc368e4e8b"
      },
      "source": [
        "!pip install -q tensorflow-gpu -U"
      ],
      "execution_count": 1,
      "outputs": [
        {
          "output_type": "stream",
          "text": [
            "\u001b[K     |████████████████████████████████| 320.4MB 48kB/s \n",
            "\u001b[?25h"
          ],
          "name": "stdout"
        }
      ]
    },
    {
      "cell_type": "code",
      "metadata": {
        "id": "d6tMFmnqCmC9",
        "colab_type": "code",
        "colab": {}
      },
      "source": [
        "import tensorflow as tf\n",
        "from tensorflow.keras.layers import Input, Dense, SimpleRNN, Flatten\n",
        "from tensorflow.keras.models import Model\n",
        "from tensorflow.keras.optimizers import SGD, Adam\n",
        "\n",
        "import numpy as np\n",
        "import pandas as pd\n",
        "import matplotlib.pyplot as plt"
      ],
      "execution_count": 5,
      "outputs": []
    },
    {
      "cell_type": "code",
      "metadata": {
        "id": "wbsNJXAKCn_p",
        "colab_type": "code",
        "colab": {
          "base_uri": "https://localhost:8080/",
          "height": 282
        },
        "outputId": "2d729e91-7fbe-41a1-fb62-1ab204c8cdcb"
      },
      "source": [
        "#synthetic dataset\n",
        "noise = np.random.randn(200)*0.1\n",
        "series = np.sin(0.1*np.arange(200)) + noise\n",
        "plt.plot(series)"
      ],
      "execution_count": 31,
      "outputs": [
        {
          "output_type": "execute_result",
          "data": {
            "text/plain": [
              "[<matplotlib.lines.Line2D at 0x7fb570badf98>]"
            ]
          },
          "metadata": {
            "tags": []
          },
          "execution_count": 31
        },
        {
          "output_type": "display_data",
          "data": {
            "image/png": "[encoded data removed]",
            "text/plain": [
              "<Figure size 432x288 with 1 Axes>"
            ]
          },
          "metadata": {
            "tags": [],
            "needs_background": "light"
          }
        }
      ]
    },
    {
      "cell_type": "code",
      "metadata": {
        "id": "6_grr8udCwVS",
        "colab_type": "code",
        "colab": {
          "base_uri": "https://localhost:8080/",
          "height": 34
        },
        "outputId": "51204c6b-21e8-4789-ac7b-9249f469fbb3"
      },
      "source": [
        "T = 10\n",
        "X = []\n",
        "Y = []\n",
        "for t in range(len(series) - T):\n",
        "  x = series[t:t+T]\n",
        "  X.append(x)\n",
        "  y = series[t+T]\n",
        "  Y.append(y)\n",
        "\n",
        "X = np.array(X).reshape(-1, T, 1) # Should be N x T x D\n",
        "Y = np.array(Y)\n",
        "N = len(X)\n",
        "print(\"X.shape:\",X.shape,\"Y.shape\",Y.shape)"
      ],
      "execution_count": 37,
      "outputs": [
        {
          "output_type": "stream",
          "text": [
            "X.shape: (190, 10, 1) Y.shape (190,)\n"
          ],
          "name": "stdout"
        }
      ]
    },
    {
      "cell_type": "code",
      "metadata": {
        "id": "K1BiqGe5DCml",
        "colab_type": "code",
        "colab": {}
      },
      "source": [
        "#RNN Model\n",
        "i = Input(shape = (T,1))\n",
        "x = SimpleRNN(5, activation='relu')(i)\n",
        "x = Dense(1)(x)\n",
        "model = Model(i,x)\n",
        "model.compile(loss='mse',optimizer=Adam(lr=0.1))"
      ],
      "execution_count": 38,
      "outputs": []
    },
    {
      "cell_type": "code",
      "metadata": {
        "id": "NtPJUNm7D_DP",
        "colab_type": "code",
        "colab": {
          "base_uri": "https://localhost:8080/",
          "height": 1000
        },
        "outputId": "463f7f9a-5c36-4578-9586-e92567bfce1c"
      },
      "source": [
        "r = model.fit(\n",
        "    X[:-N//2], Y[:-N//2],\n",
        "    epochs = 80,\n",
        "    validation_data = (X[-N//2:],Y[-N//2:]),\n",
        ")"
      ],
      "execution_count": 39,
      "outputs": [
        {
          "output_type": "stream",
          "text": [
            "Epoch 1/80\n",
            "3/3 [==============================] - 0s 58ms/step - loss: 6.3885 - val_loss: 0.4314\n",
            "Epoch 2/80\n",
            "3/3 [==============================] - 0s 8ms/step - loss: 0.3029 - val_loss: 0.1094\n",
            "Epoch 3/80\n",
            "3/3 [==============================] - 0s 8ms/step - loss: 0.1499 - val_loss: 0.1614\n",
            "Epoch 4/80\n",
            "3/3 [==============================] - 0s 8ms/step - loss: 0.1105 - val_loss: 0.0469\n",
            "Epoch 5/80\n",
            "3/3 [==============================] - 0s 9ms/step - loss: 0.0668 - val_loss: 0.0805\n",
            "Epoch 6/80\n",
            "3/3 [==============================] - 0s 10ms/step - loss: 0.0759 - val_loss: 0.0526\n",
            "Epoch 7/80\n",
            "3/3 [==============================] - 0s 9ms/step - loss: 0.0468 - val_loss: 0.0536\n",
            "Epoch 8/80\n",
            "3/3 [==============================] - 0s 8ms/step - loss: 0.0504 - val_loss: 0.0598\n",
            "Epoch 9/80\n",
            "3/3 [==============================] - 0s 9ms/step - loss: 0.0365 - val_loss: 0.0319\n",
            "Epoch 10/80\n",
            "3/3 [==============================] - 0s 8ms/step - loss: 0.0350 - val_loss: 0.0393\n",
            "Epoch 11/80\n",
            "3/3 [==============================] - 0s 8ms/step - loss: 0.0338 - val_loss: 0.0302\n",
            "Epoch 12/80\n",
            "3/3 [==============================] - 0s 10ms/step - loss: 0.0304 - val_loss: 0.0404\n",
            "Epoch 13/80\n",
            "3/3 [==============================] - 0s 9ms/step - loss: 0.0297 - val_loss: 0.0281\n",
            "Epoch 14/80\n",
            "3/3 [==============================] - 0s 9ms/step - loss: 0.0265 - val_loss: 0.0284\n",
            "Epoch 15/80\n",
            "3/3 [==============================] - 0s 9ms/step - loss: 0.0267 - val_loss: 0.0295\n",
            "Epoch 16/80\n",
            "3/3 [==============================] - 0s 8ms/step - loss: 0.0276 - val_loss: 0.0328\n",
            "Epoch 17/80\n",
            "3/3 [==============================] - 0s 10ms/step - loss: 0.0260 - val_loss: 0.0266\n",
            "Epoch 18/80\n",
            "3/3 [==============================] - 0s 9ms/step - loss: 0.0258 - val_loss: 0.0261\n",
            "Epoch 19/80\n",
            "3/3 [==============================] - 0s 10ms/step - loss: 0.0244 - val_loss: 0.0288\n",
            "Epoch 20/80\n",
            "3/3 [==============================] - 0s 8ms/step - loss: 0.0271 - val_loss: 0.0287\n",
            "Epoch 21/80\n",
            "3/3 [==============================] - 0s 9ms/step - loss: 0.0242 - val_loss: 0.0262\n",
            "Epoch 22/80\n",
            "3/3 [==============================] - 0s 8ms/step - loss: 0.0259 - val_loss: 0.0256\n",
            "Epoch 23/80\n",
            "3/3 [==============================] - 0s 8ms/step - loss: 0.0266 - val_loss: 0.0292\n",
            "Epoch 24/80\n",
            "3/3 [==============================] - 0s 8ms/step - loss: 0.0237 - val_loss: 0.0251\n",
            "Epoch 25/80\n",
            "3/3 [==============================] - 0s 9ms/step - loss: 0.0249 - val_loss: 0.0251\n",
            "Epoch 26/80\n",
            "3/3 [==============================] - 0s 7ms/step - loss: 0.0255 - val_loss: 0.0305\n",
            "Epoch 27/80\n",
            "3/3 [==============================] - 0s 7ms/step - loss: 0.0241 - val_loss: 0.0247\n",
            "Epoch 28/80\n",
            "3/3 [==============================] - 0s 7ms/step - loss: 0.0246 - val_loss: 0.0250\n",
            "Epoch 29/80\n",
            "3/3 [==============================] - 0s 7ms/step - loss: 0.0235 - val_loss: 0.0278\n",
            "Epoch 30/80\n",
            "3/3 [==============================] - 0s 8ms/step - loss: 0.0251 - val_loss: 0.0242\n",
            "Epoch 31/80\n",
            "3/3 [==============================] - 0s 7ms/step - loss: 0.0236 - val_loss: 0.0273\n",
            "Epoch 32/80\n",
            "3/3 [==============================] - 0s 8ms/step - loss: 0.0239 - val_loss: 0.0244\n",
            "Epoch 33/80\n",
            "3/3 [==============================] - 0s 8ms/step - loss: 0.0238 - val_loss: 0.0240\n",
            "Epoch 34/80\n",
            "3/3 [==============================] - 0s 8ms/step - loss: 0.0244 - val_loss: 0.0260\n",
            "Epoch 35/80\n",
            "3/3 [==============================] - 0s 8ms/step - loss: 0.0265 - val_loss: 0.0278\n",
            "Epoch 36/80\n",
            "3/3 [==============================] - 0s 8ms/step - loss: 0.0246 - val_loss: 0.0247\n",
            "Epoch 37/80\n",
            "3/3 [==============================] - 0s 8ms/step - loss: 0.0254 - val_loss: 0.0283\n",
            "Epoch 38/80\n",
            "3/3 [==============================] - 0s 7ms/step - loss: 0.0245 - val_loss: 0.0247\n",
            "Epoch 39/80\n",
            "3/3 [==============================] - 0s 8ms/step - loss: 0.0242 - val_loss: 0.0239\n",
            "Epoch 40/80\n",
            "3/3 [==============================] - 0s 7ms/step - loss: 0.0233 - val_loss: 0.0282\n",
            "Epoch 41/80\n",
            "3/3 [==============================] - 0s 7ms/step - loss: 0.0246 - val_loss: 0.0242\n",
            "Epoch 42/80\n",
            "3/3 [==============================] - 0s 8ms/step - loss: 0.0256 - val_loss: 0.0239\n",
            "Epoch 43/80\n",
            "3/3 [==============================] - 0s 7ms/step - loss: 0.0229 - val_loss: 0.0290\n",
            "Epoch 44/80\n",
            "3/3 [==============================] - 0s 8ms/step - loss: 0.0249 - val_loss: 0.0239\n",
            "Epoch 45/80\n",
            "3/3 [==============================] - 0s 7ms/step - loss: 0.0239 - val_loss: 0.0241\n",
            "Epoch 46/80\n",
            "3/3 [==============================] - 0s 8ms/step - loss: 0.0229 - val_loss: 0.0262\n",
            "Epoch 47/80\n",
            "3/3 [==============================] - 0s 7ms/step - loss: 0.0236 - val_loss: 0.0240\n",
            "Epoch 48/80\n",
            "3/3 [==============================] - 0s 9ms/step - loss: 0.0237 - val_loss: 0.0249\n",
            "Epoch 49/80\n",
            "3/3 [==============================] - 0s 8ms/step - loss: 0.0232 - val_loss: 0.0257\n",
            "Epoch 50/80\n",
            "3/3 [==============================] - 0s 8ms/step - loss: 0.0238 - val_loss: 0.0237\n",
            "Epoch 51/80\n",
            "3/3 [==============================] - 0s 8ms/step - loss: 0.0256 - val_loss: 0.0243\n",
            "Epoch 52/80\n",
            "3/3 [==============================] - 0s 7ms/step - loss: 0.0226 - val_loss: 0.0297\n",
            "Epoch 53/80\n",
            "3/3 [==============================] - 0s 8ms/step - loss: 0.0250 - val_loss: 0.0236\n",
            "Epoch 54/80\n",
            "3/3 [==============================] - 0s 8ms/step - loss: 0.0254 - val_loss: 0.0239\n",
            "Epoch 55/80\n",
            "3/3 [==============================] - 0s 8ms/step - loss: 0.0266 - val_loss: 0.0324\n",
            "Epoch 56/80\n",
            "3/3 [==============================] - 0s 8ms/step - loss: 0.0242 - val_loss: 0.0252\n",
            "Epoch 57/80\n",
            "3/3 [==============================] - 0s 10ms/step - loss: 0.0275 - val_loss: 0.0303\n",
            "Epoch 58/80\n",
            "3/3 [==============================] - 0s 7ms/step - loss: 0.0257 - val_loss: 0.0237\n",
            "Epoch 59/80\n",
            "3/3 [==============================] - 0s 7ms/step - loss: 0.0238 - val_loss: 0.0245\n",
            "Epoch 60/80\n",
            "3/3 [==============================] - 0s 7ms/step - loss: 0.0237 - val_loss: 0.0258\n",
            "Epoch 61/80\n",
            "3/3 [==============================] - 0s 8ms/step - loss: 0.0244 - val_loss: 0.0255\n",
            "Epoch 62/80\n",
            "3/3 [==============================] - 0s 8ms/step - loss: 0.0268 - val_loss: 0.0237\n",
            "Epoch 63/80\n",
            "3/3 [==============================] - 0s 8ms/step - loss: 0.0245 - val_loss: 0.0322\n",
            "Epoch 64/80\n",
            "3/3 [==============================] - 0s 8ms/step - loss: 0.0263 - val_loss: 0.0260\n",
            "Epoch 65/80\n",
            "3/3 [==============================] - 0s 7ms/step - loss: 0.0265 - val_loss: 0.0272\n",
            "Epoch 66/80\n",
            "3/3 [==============================] - 0s 9ms/step - loss: 0.0235 - val_loss: 0.0242\n",
            "Epoch 67/80\n",
            "3/3 [==============================] - 0s 8ms/step - loss: 0.0237 - val_loss: 0.0245\n",
            "Epoch 68/80\n",
            "3/3 [==============================] - 0s 8ms/step - loss: 0.0232 - val_loss: 0.0257\n",
            "Epoch 69/80\n",
            "3/3 [==============================] - 0s 9ms/step - loss: 0.0231 - val_loss: 0.0244\n",
            "Epoch 70/80\n",
            "3/3 [==============================] - 0s 8ms/step - loss: 0.0237 - val_loss: 0.0249\n",
            "Epoch 71/80\n",
            "3/3 [==============================] - 0s 8ms/step - loss: 0.0237 - val_loss: 0.0270\n",
            "Epoch 72/80\n",
            "3/3 [==============================] - 0s 8ms/step - loss: 0.0280 - val_loss: 0.0243\n",
            "Epoch 73/80\n",
            "3/3 [==============================] - 0s 7ms/step - loss: 0.0262 - val_loss: 0.0243\n",
            "Epoch 74/80\n",
            "3/3 [==============================] - 0s 8ms/step - loss: 0.0301 - val_loss: 0.0316\n",
            "Epoch 75/80\n",
            "3/3 [==============================] - 0s 8ms/step - loss: 0.0224 - val_loss: 0.0262\n",
            "Epoch 76/80\n",
            "3/3 [==============================] - 0s 7ms/step - loss: 0.0259 - val_loss: 0.0263\n",
            "Epoch 77/80\n",
            "3/3 [==============================] - 0s 7ms/step - loss: 0.0239 - val_loss: 0.0274\n",
            "Epoch 78/80\n",
            "3/3 [==============================] - 0s 8ms/step - loss: 0.0231 - val_loss: 0.0238\n",
            "Epoch 79/80\n",
            "3/3 [==============================] - 0s 9ms/step - loss: 0.0244 - val_loss: 0.0249\n",
            "Epoch 80/80\n",
            "3/3 [==============================] - 0s 8ms/step - loss: 0.0238 - val_loss: 0.0249\n"
          ],
          "name": "stdout"
        }
      ]
    },
    {
      "cell_type": "code",
      "metadata": {
        "id": "VZFst6OxEIn6",
        "colab_type": "code",
        "colab": {
          "base_uri": "https://localhost:8080/",
          "height": 282
        },
        "outputId": "0259f317-a1c0-4585-ca3b-05d6ec17f964"
      },
      "source": [
        "plt.plot(r.history['loss'],label='loss')\n",
        "plt.plot(r.history['val_loss'],label='val_loss')\n",
        "plt.legend()"
      ],
      "execution_count": 40,
      "outputs": [
        {
          "output_type": "execute_result",
          "data": {
            "text/plain": [
              "<matplotlib.legend.Legend at 0x7fb570972160>"
            ]
          },
          "metadata": {
            "tags": []
          },
          "execution_count": 40
        },
        {
          "output_type": "display_data",
          "data": {
            "image/png": "[encoded data removed]",
            "text/plain": [
              "<Figure size 432x288 with 1 Axes>"
            ]
          },
          "metadata": {
            "tags": [],
            "needs_background": "light"
          }
        }
      ]
    },
    {
      "cell_type": "code",
      "metadata": {
        "id": "S1GUMd5eF06c",
        "colab_type": "code",
        "colab": {}
      },
      "source": [
        "#Validate\n",
        "target = Y[-N//2:]\n",
        "predictions = []\n",
        "\n",
        "last_x = X[-N//2]\n",
        "\n",
        "while len(predictions) < len(target):\n",
        "  p = model.predict(last_x.reshape(1, -1, 1))[0,0]\n",
        "  predictions.append(p)\n",
        "\n",
        "  last_x = np.roll(last_x, -1)\n",
        "  last_x[-1] = p"
      ],
      "execution_count": 41,
      "outputs": []
    },
    {
      "cell_type": "code",
      "metadata": {
        "id": "-FgNOg5JG2ZZ",
        "colab_type": "code",
        "colab": {
          "base_uri": "https://localhost:8080/",
          "height": 282
        },
        "outputId": "3afd0206-291f-4a61-efbc-05c1f8c6bd44"
      },
      "source": [
        "plt.plot(target,label=\"Target\",linewidth=5,c='yellow')\n",
        "plt.plot(predictions,label=\"Prediction\",c='red',linewidth=1)\n",
        "plt.legend()"
      ],
      "execution_count": 42,
      "outputs": [
        {
          "output_type": "execute_result",
          "data": {
            "text/plain": [
              "<matplotlib.legend.Legend at 0x7fb56ccf3780>"
            ]
          },
          "metadata": {
            "tags": []
          },
          "execution_count": 42
        },
        {
          "output_type": "display_data",
          "data": {
            "image/png": "[encoded data removed]",
            "text/plain": [
              "<Figure size 432x288 with 1 Axes>"
            ]
          },
          "metadata": {
            "tags": [],
            "needs_background": "light"
          }
        }
      ]
    },
    {
      "cell_type": "code",
      "metadata": {
        "id": "LS0gDEc5G29N",
        "colab_type": "code",
        "colab": {}
      },
      "source": [
        ""
      ],
      "execution_count": 42,
      "outputs": []
    }
  ]
}