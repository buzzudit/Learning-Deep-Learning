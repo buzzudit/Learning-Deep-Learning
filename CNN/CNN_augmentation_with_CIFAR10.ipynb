{
  "nbformat": 4,
  "nbformat_minor": 0,
  "metadata": {
    "colab": {
      "name": "CNN with CIFAR10.ipynb",
      "provenance": [],
      "authorship_tag": "ABX9TyM1nmjn2VPdmGD5HWP8PjJ1",
      "include_colab_link": true
    },
    "kernelspec": {
      "name": "python3",
      "display_name": "Python 3"
    },
    "accelerator": "GPU"
  },
  "cells": [
    {
      "cell_type": "markdown",
      "metadata": {
        "id": "view-in-github",
        "colab_type": "text"
      },
      "source": [
        "<a href=\"https://colab.research.google.com/github/buzzudit/Learning-Deep-Learning/blob/master/CNN/CNN_augmentation_with_CIFAR10.ipynb\" target=\"_parent\"><img src=\"https://colab.research.google.com/assets/colab-badge.svg\" alt=\"Open In Colab\"/></a>"
      ]
    },
    {
      "cell_type": "code",
      "metadata": {
        "id": "HN7qoq9C4upg",
        "colab_type": "code",
        "colab": {}
      },
      "source": [
        "!pip install -q tensorflow-gpu -U"
      ],
      "execution_count": 6,
      "outputs": []
    },
    {
      "cell_type": "code",
      "metadata": {
        "id": "uqeFayBr4-el",
        "colab_type": "code",
        "colab": {}
      },
      "source": [
        "import tensorflow as tf\n",
        "import numpy as np\n",
        "import matplotlib.pyplot as plt\n",
        "from tensorflow.keras.layers import Input, Conv2D, Dense,  Flatten, Dropout, BatchNormalization, GlobalMaxPooling2D, MaxPooling2D\n",
        "from tensorflow.keras.models import Model\n",
        "import matplotlib.pyplot as plt"
      ],
      "execution_count": 7,
      "outputs": []
    },
    {
      "cell_type": "code",
      "metadata": {
        "id": "Fc-BjiHp5ASn",
        "colab_type": "code",
        "colab": {
          "base_uri": "https://localhost:8080/",
          "height": 51
        },
        "outputId": "c5a120aa-c51b-4a80-fd4f-5924121288af"
      },
      "source": [
        "cifar10 = tf.keras.datasets.cifar10\n",
        "(x_train,y_train),(x_test,y_test) = cifar10.load_data()\n",
        "y_train, y_test = y_train.flatten(), y_test.flatten()\n",
        "x_train, x_test = x_train/255.0, x_test/255.0\n",
        "print(\"x_train.shape:\", x_train.shape)\n",
        "print(\"y_train.shape:\", y_train.shape)"
      ],
      "execution_count": 8,
      "outputs": [
        {
          "output_type": "stream",
          "text": [
            "x_train.shape: (50000, 32, 32, 3)\n",
            "y_train.shape: (50000,)\n"
          ],
          "name": "stdout"
        }
      ]
    },
    {
      "cell_type": "code",
      "metadata": {
        "id": "QUZD5ulB5oJS",
        "colab_type": "code",
        "colab": {
          "base_uri": "https://localhost:8080/",
          "height": 34
        },
        "outputId": "a8d16793-178a-4c01-f3f7-8cfe37f40eef"
      },
      "source": [
        "K = len(set(y_train))\n",
        "print(f\"number of classes:{K}\")"
      ],
      "execution_count": 9,
      "outputs": [
        {
          "output_type": "stream",
          "text": [
            "number of classes:10\n"
          ],
          "name": "stdout"
        }
      ]
    },
    {
      "cell_type": "code",
      "metadata": {
        "id": "dqIR2AOV6sfd",
        "colab_type": "code",
        "colab": {}
      },
      "source": [
        "i = Input(shape=x_train[0].shape)\n",
        "\n",
        "x = Conv2D(32, (3,3), activation='relu', padding = 'same' )(i)\n",
        "x = BatchNormalization()(x)\n",
        "x = Conv2D(32, (3,3), activation='relu', padding = 'same')(x)\n",
        "x = BatchNormalization()(x)\n",
        "x = MaxPooling2D((2,2))(x)\n",
        "#x = Dropout(0.2)(x)\n",
        "\n",
        "x = Conv2D(64, (3,3), activation='relu', padding = 'same' )(x)\n",
        "x = BatchNormalization()(x)\n",
        "x = Conv2D(64, (3,3), activation='relu', padding = 'same' )(x)\n",
        "x = BatchNormalization()(x)\n",
        "x = MaxPooling2D((2,2))(x)\n",
        "#x = Dropout(0.2)(x)\n",
        "\n",
        "x = Conv2D(128, (3,3), activation='relu', padding = 'same' )(x)\n",
        "x = BatchNormalization()(x)\n",
        "x = Conv2D(128, (3,3), activation='relu', padding = 'same' )(x)\n",
        "x = BatchNormalization()(x)\n",
        "x = MaxPooling2D((2,2))(x)\n",
        "#x = Dropout(0.2)(x)\n",
        "\n",
        "#x = GlobalMaxPooling2D()(x)\n",
        "x = Flatten()(x)\n",
        "x = Dropout(0.2)(x)\n",
        "x = Dense(1024, activation='relu')(x)\n",
        "x = Dropout(0.2)(x)\n",
        "x = Dense(K, activation='softmax')(x)\n",
        "\n",
        "model = Model(i,x)\n",
        "\n",
        "model.compile(\n",
        "    optimizer='adam',\n",
        "    loss = 'sparse_categorical_crossentropy',\n",
        "    metrics=['accuracy']\n",
        "    )"
      ],
      "execution_count": 15,
      "outputs": []
    },
    {
      "cell_type": "code",
      "metadata": {
        "id": "2hcGxtGc7O-x",
        "colab_type": "code",
        "colab": {
          "base_uri": "https://localhost:8080/",
          "height": 1000
        },
        "outputId": "e6e2372c-8240-47d1-a0cb-9410889787a1"
      },
      "source": [
        "r = model.fit(x_train, y_train, validation_data=(x_test,y_test), epochs=50)"
      ],
      "execution_count": 16,
      "outputs": [
        {
          "output_type": "stream",
          "text": [
            "Epoch 1/50\n",
            "1563/1563 [==============================] - 23s 15ms/step - loss: 1.2793 - accuracy: 0.5587 - val_loss: 1.3354 - val_accuracy: 0.5611\n",
            "Epoch 2/50\n",
            "1563/1563 [==============================] - 23s 15ms/step - loss: 0.8397 - accuracy: 0.7078 - val_loss: 0.8401 - val_accuracy: 0.7159\n",
            "Epoch 3/50\n",
            "1563/1563 [==============================] - 23s 15ms/step - loss: 0.6817 - accuracy: 0.7664 - val_loss: 0.7553 - val_accuracy: 0.7369\n",
            "Epoch 4/50\n",
            "1563/1563 [==============================] - 23s 15ms/step - loss: 0.5769 - accuracy: 0.8023 - val_loss: 0.6434 - val_accuracy: 0.7865\n",
            "Epoch 5/50\n",
            "1563/1563 [==============================] - 23s 15ms/step - loss: 0.4920 - accuracy: 0.8320 - val_loss: 0.7088 - val_accuracy: 0.7707\n",
            "Epoch 6/50\n",
            "1563/1563 [==============================] - 23s 15ms/step - loss: 0.4177 - accuracy: 0.8576 - val_loss: 0.6927 - val_accuracy: 0.7891\n",
            "Epoch 7/50\n",
            "1563/1563 [==============================] - 23s 15ms/step - loss: 0.3598 - accuracy: 0.8758 - val_loss: 0.5953 - val_accuracy: 0.8104\n",
            "Epoch 8/50\n",
            "1563/1563 [==============================] - 23s 15ms/step - loss: 0.3033 - accuracy: 0.8942 - val_loss: 0.5946 - val_accuracy: 0.8135\n",
            "Epoch 9/50\n",
            "1563/1563 [==============================] - 23s 15ms/step - loss: 0.2578 - accuracy: 0.9110 - val_loss: 0.6333 - val_accuracy: 0.8172\n",
            "Epoch 10/50\n",
            "1563/1563 [==============================] - 23s 15ms/step - loss: 0.2243 - accuracy: 0.9222 - val_loss: 0.6618 - val_accuracy: 0.8166\n",
            "Epoch 11/50\n",
            "1563/1563 [==============================] - 23s 15ms/step - loss: 0.1944 - accuracy: 0.9339 - val_loss: 0.6804 - val_accuracy: 0.8123\n",
            "Epoch 12/50\n",
            "1563/1563 [==============================] - 23s 15ms/step - loss: 0.1795 - accuracy: 0.9384 - val_loss: 0.7693 - val_accuracy: 0.8109\n",
            "Epoch 13/50\n",
            "1563/1563 [==============================] - 23s 14ms/step - loss: 0.1550 - accuracy: 0.9475 - val_loss: 0.6727 - val_accuracy: 0.8212\n",
            "Epoch 14/50\n",
            "1563/1563 [==============================] - 23s 14ms/step - loss: 0.1487 - accuracy: 0.9498 - val_loss: 0.7467 - val_accuracy: 0.8152\n",
            "Epoch 15/50\n",
            "1563/1563 [==============================] - 23s 15ms/step - loss: 0.1373 - accuracy: 0.9538 - val_loss: 0.7135 - val_accuracy: 0.8265\n",
            "Epoch 16/50\n",
            "1563/1563 [==============================] - 23s 15ms/step - loss: 0.1239 - accuracy: 0.9587 - val_loss: 0.7359 - val_accuracy: 0.8300\n",
            "Epoch 17/50\n",
            "1563/1563 [==============================] - 23s 15ms/step - loss: 0.1146 - accuracy: 0.9620 - val_loss: 0.8285 - val_accuracy: 0.8267\n",
            "Epoch 18/50\n",
            "1563/1563 [==============================] - 23s 15ms/step - loss: 0.1083 - accuracy: 0.9637 - val_loss: 0.7617 - val_accuracy: 0.8327\n",
            "Epoch 19/50\n",
            "1563/1563 [==============================] - 23s 15ms/step - loss: 0.1046 - accuracy: 0.9650 - val_loss: 0.7887 - val_accuracy: 0.8299\n",
            "Epoch 20/50\n",
            "1563/1563 [==============================] - 23s 15ms/step - loss: 0.0961 - accuracy: 0.9683 - val_loss: 0.7510 - val_accuracy: 0.8272\n",
            "Epoch 21/50\n",
            "1563/1563 [==============================] - 23s 15ms/step - loss: 0.0907 - accuracy: 0.9703 - val_loss: 0.8251 - val_accuracy: 0.8284\n",
            "Epoch 22/50\n",
            "1563/1563 [==============================] - 23s 15ms/step - loss: 0.0877 - accuracy: 0.9706 - val_loss: 0.7437 - val_accuracy: 0.8321\n",
            "Epoch 23/50\n",
            "1563/1563 [==============================] - 23s 14ms/step - loss: 0.0814 - accuracy: 0.9728 - val_loss: 0.8430 - val_accuracy: 0.8322\n",
            "Epoch 24/50\n",
            "1563/1563 [==============================] - 23s 15ms/step - loss: 0.0818 - accuracy: 0.9726 - val_loss: 0.8030 - val_accuracy: 0.8324\n",
            "Epoch 25/50\n",
            "1563/1563 [==============================] - 23s 15ms/step - loss: 0.0794 - accuracy: 0.9738 - val_loss: 0.7820 - val_accuracy: 0.8318\n",
            "Epoch 26/50\n",
            "1563/1563 [==============================] - 23s 15ms/step - loss: 0.0706 - accuracy: 0.9756 - val_loss: 0.8937 - val_accuracy: 0.8258\n",
            "Epoch 27/50\n",
            "1563/1563 [==============================] - 23s 15ms/step - loss: 0.0729 - accuracy: 0.9776 - val_loss: 0.8236 - val_accuracy: 0.8320\n",
            "Epoch 28/50\n",
            "1563/1563 [==============================] - 23s 15ms/step - loss: 0.0710 - accuracy: 0.9775 - val_loss: 0.8019 - val_accuracy: 0.8259\n",
            "Epoch 29/50\n",
            "1563/1563 [==============================] - 23s 15ms/step - loss: 0.0636 - accuracy: 0.9793 - val_loss: 0.8822 - val_accuracy: 0.8328\n",
            "Epoch 30/50\n",
            "1563/1563 [==============================] - 23s 15ms/step - loss: 0.0593 - accuracy: 0.9804 - val_loss: 0.7668 - val_accuracy: 0.8400\n",
            "Epoch 31/50\n",
            "1563/1563 [==============================] - 23s 14ms/step - loss: 0.0634 - accuracy: 0.9792 - val_loss: 0.8814 - val_accuracy: 0.8303\n",
            "Epoch 32/50\n",
            "1563/1563 [==============================] - 23s 15ms/step - loss: 0.0609 - accuracy: 0.9809 - val_loss: 0.8058 - val_accuracy: 0.8374\n",
            "Epoch 33/50\n",
            "1563/1563 [==============================] - 23s 15ms/step - loss: 0.0583 - accuracy: 0.9809 - val_loss: 0.8328 - val_accuracy: 0.8392\n",
            "Epoch 34/50\n",
            "1563/1563 [==============================] - 23s 15ms/step - loss: 0.0543 - accuracy: 0.9823 - val_loss: 0.8605 - val_accuracy: 0.8368\n",
            "Epoch 35/50\n",
            "1563/1563 [==============================] - 23s 15ms/step - loss: 0.0568 - accuracy: 0.9813 - val_loss: 0.8613 - val_accuracy: 0.8295\n",
            "Epoch 36/50\n",
            "1563/1563 [==============================] - 23s 15ms/step - loss: 0.0558 - accuracy: 0.9830 - val_loss: 0.8436 - val_accuracy: 0.8367\n",
            "Epoch 37/50\n",
            "1563/1563 [==============================] - 23s 15ms/step - loss: 0.0466 - accuracy: 0.9845 - val_loss: 0.9269 - val_accuracy: 0.8302\n",
            "Epoch 38/50\n",
            "1563/1563 [==============================] - 23s 15ms/step - loss: 0.0488 - accuracy: 0.9844 - val_loss: 0.8428 - val_accuracy: 0.8357\n",
            "Epoch 39/50\n",
            "1563/1563 [==============================] - 23s 15ms/step - loss: 0.0518 - accuracy: 0.9837 - val_loss: 0.8548 - val_accuracy: 0.8366\n",
            "Epoch 40/50\n",
            "1563/1563 [==============================] - 23s 15ms/step - loss: 0.0469 - accuracy: 0.9847 - val_loss: 0.8368 - val_accuracy: 0.8327\n",
            "Epoch 41/50\n",
            "1563/1563 [==============================] - 23s 15ms/step - loss: 0.0517 - accuracy: 0.9834 - val_loss: 0.8597 - val_accuracy: 0.8397\n",
            "Epoch 42/50\n",
            "1563/1563 [==============================] - 23s 14ms/step - loss: 0.0445 - accuracy: 0.9846 - val_loss: 0.8921 - val_accuracy: 0.8361\n",
            "Epoch 43/50\n",
            "1563/1563 [==============================] - 23s 15ms/step - loss: 0.0444 - accuracy: 0.9854 - val_loss: 0.8657 - val_accuracy: 0.8439\n",
            "Epoch 44/50\n",
            "1563/1563 [==============================] - 23s 15ms/step - loss: 0.0475 - accuracy: 0.9846 - val_loss: 0.8248 - val_accuracy: 0.8399\n",
            "Epoch 45/50\n",
            "1563/1563 [==============================] - 23s 15ms/step - loss: 0.0454 - accuracy: 0.9855 - val_loss: 0.8449 - val_accuracy: 0.8470\n",
            "Epoch 46/50\n",
            "1563/1563 [==============================] - 23s 15ms/step - loss: 0.0384 - accuracy: 0.9878 - val_loss: 0.8817 - val_accuracy: 0.8478\n",
            "Epoch 47/50\n",
            "1563/1563 [==============================] - 23s 15ms/step - loss: 0.0435 - accuracy: 0.9860 - val_loss: 0.8704 - val_accuracy: 0.8425\n",
            "Epoch 48/50\n",
            "1563/1563 [==============================] - 23s 15ms/step - loss: 0.0417 - accuracy: 0.9866 - val_loss: 0.9026 - val_accuracy: 0.8423\n",
            "Epoch 49/50\n",
            "1563/1563 [==============================] - 23s 15ms/step - loss: 0.0416 - accuracy: 0.9869 - val_loss: 0.9477 - val_accuracy: 0.8365\n",
            "Epoch 50/50\n",
            "1563/1563 [==============================] - 23s 15ms/step - loss: 0.0407 - accuracy: 0.9874 - val_loss: 0.8491 - val_accuracy: 0.8446\n"
          ],
          "name": "stdout"
        }
      ]
    },
    {
      "cell_type": "code",
      "metadata": {
        "id": "ustdQZar7VDl",
        "colab_type": "code",
        "colab": {
          "base_uri": "https://localhost:8080/",
          "height": 286
        },
        "outputId": "223f98e7-a8c2-4bcd-c71f-97875363d7c3"
      },
      "source": [
        "plt.plot(r.history['loss'],label='loss')\n",
        "plt.plot(r.history['val_loss'],label='val_loss')\n",
        "plt.legend()"
      ],
      "execution_count": 17,
      "outputs": [
        {
          "output_type": "execute_result",
          "data": {
            "text/plain": [
              "<matplotlib.legend.Legend at 0x7f3f91b7fb00>"
            ]
          },
          "metadata": {
            "tags": []
          },
          "execution_count": 17
        },
        {
          "output_type": "display_data",
          "data": {
            "image/png": "[encoded data removed]",
            "text/plain": [
              "<Figure size 432x288 with 1 Axes>"
            ]
          },
          "metadata": {
            "tags": [],
            "needs_background": "light"
          }
        }
      ]
    },
    {
      "cell_type": "code",
      "metadata": {
        "id": "Gd4lTv2p8k31",
        "colab_type": "code",
        "colab": {
          "base_uri": "https://localhost:8080/",
          "height": 282
        },
        "outputId": "1a3ee676-18a3-43f0-fddd-a261925cfdd0"
      },
      "source": [
        "plt.plot(r.history['accuracy'],label='accuracy')\n",
        "plt.plot(r.history['val_accuracy'],label='val_accuracy')\n",
        "plt.legend()"
      ],
      "execution_count": 18,
      "outputs": [
        {
          "output_type": "execute_result",
          "data": {
            "text/plain": [
              "<matplotlib.legend.Legend at 0x7f3f91b315f8>"
            ]
          },
          "metadata": {
            "tags": []
          },
          "execution_count": 18
        },
        {
          "output_type": "display_data",
          "data": {
            "image/png": "[encoded data removed]",
            "text/plain": [
              "<Figure size 432x288 with 1 Axes>"
            ]
          },
          "metadata": {
            "tags": [],
            "needs_background": "light"
          }
        }
      ]
    }
  ]
}